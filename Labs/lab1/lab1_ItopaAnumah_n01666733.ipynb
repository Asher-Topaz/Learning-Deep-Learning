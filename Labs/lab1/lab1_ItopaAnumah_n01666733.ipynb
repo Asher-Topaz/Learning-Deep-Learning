{
 "cells": [
  {
   "cell_type": "code",
   "execution_count": 1,
   "metadata": {},
   "outputs": [],
   "source": [
    "import random"
   ]
  },
  {
   "cell_type": "code",
   "execution_count": 2,
   "metadata": {},
   "outputs": [],
   "source": [
    "def show_learning(w): #define \n",
    "    print('w0 =', '%5.2f' % w[0], ', w1 =', '%5.2f' % w[1],\n",
    "          ', w2 =', '%5.2f' % w[2])"
   ]
  },
  {
   "cell_type": "code",
   "execution_count": 3,
   "metadata": {},
   "outputs": [],
   "source": [
    "random.seed(7) # To make repeatable\n",
    "LEARNING_RATE = 0.1\n",
    "index_list = [0, 1, 2, 3] # Used to randomize order"
   ]
  },
  {
   "cell_type": "code",
   "execution_count": 4,
   "metadata": {},
   "outputs": [],
   "source": [
    "x_train_and = [(1.0, -1.0, -1.0), (1.0, -1.0, 1.0),\n",
    "    (1.0, 1.0, -1.0), (1.0, 1.0, 1.0)] # Inputs\n",
    "y_train_and = [-1.0, -1.0, -1.0, 1.0] # Output (ground truth)"
   ]
  },
  {
   "cell_type": "code",
   "execution_count": 5,
   "metadata": {},
   "outputs": [],
   "source": [
    "x_train_or = [(1.0, -1.0, -1.0), (1.0, -1.0, 1.0),\n",
    "    (1.0, 1.0, -1.0), (1.0, 1.0, 1.0)] # Inputs\n",
    "y_train_or = [-1.0, 1.0, 1.0, 1.0] # Output (ground truth)"
   ]
  },
  {
   "cell_type": "code",
   "execution_count": 6,
   "metadata": {},
   "outputs": [
    {
     "name": "stdout",
     "output_type": "stream",
     "text": [
      "w0 =  0.20 , w1 = -0.60 , w2 =  0.25\n",
      "w0 =  0.20 , w1 = -0.60 , w2 =  0.25\n"
     ]
    }
   ],
   "source": [
    "w_and = [0.2, -0.6, 0.25] # Initialize to some \"random\" numbers\n",
    "w_or = [0.2, -0.6, 0.25] \n",
    "\n",
    "# Print initial weights.\n",
    "show_learning(w_and)\n",
    "show_learning(w_or)"
   ]
  },
  {
   "cell_type": "code",
   "execution_count": 7,
   "metadata": {},
   "outputs": [],
   "source": [
    "# First element in vector x must be 1.\n",
    "# Length of w and x must be n+1 for neuron with n inputs.\n",
    "def compute_output(w, x):\n",
    "    z = 0.0\n",
    "    for i in range(len(w)):\n",
    "        z += x[i] * w[i] # Compute sum of weighted inputs\n",
    "    if z < 0: # Apply sign function\n",
    "        return -1\n",
    "    else:\n",
    "        return 1\n",
    "\n"
   ]
  },
  {
   "cell_type": "code",
   "execution_count": 8,
   "metadata": {},
   "outputs": [
    {
     "name": "stdout",
     "output_type": "stream",
     "text": [
      "w0 =  0.30 , w1 = -0.50 , w2 =  0.35\n",
      "w0 =  0.20 , w1 = -0.40 , w2 =  0.25\n",
      "w0 =  0.10 , w1 = -0.30 , w2 =  0.35\n",
      "w0 =  0.00 , w1 = -0.20 , w2 =  0.25\n",
      "w0 = -0.10 , w1 = -0.10 , w2 =  0.15\n",
      "w0 =  0.00 , w1 = -0.00 , w2 =  0.25\n",
      "w0 = -0.10 , w1 =  0.10 , w2 =  0.15\n"
     ]
    }
   ],
   "source": [
    "# Perceptron training loop.\n",
    "all_correct = False\n",
    "while not all_correct:\n",
    "    all_correct = True\n",
    "    random.shuffle(index_list) # Randomize order\n",
    "    for i in index_list:\n",
    "        x = x_train_and[i]\n",
    "        y = y_train_and[i]\n",
    "        p_out = compute_output(w_and, x) # Perceptron function\n",
    "        if y != p_out: # Update weights when wrong\n",
    "            for j in range(0, len(w_and)):\n",
    "                w_and[j] += (y * LEARNING_RATE * x[j])\n",
    "            all_correct = False\n",
    "            show_learning(w_and) # Show updated weights\n"
   ]
  },
  {
   "cell_type": "code",
   "execution_count": 9,
   "metadata": {},
   "outputs": [
    {
     "name": "stdout",
     "output_type": "stream",
     "text": [
      "w0 =  0.30 , w1 = -0.50 , w2 =  0.35\n",
      "w0 =  0.20 , w1 = -0.40 , w2 =  0.45\n",
      "w0 =  0.30 , w1 = -0.30 , w2 =  0.35\n",
      "w0 =  0.40 , w1 = -0.20 , w2 =  0.25\n",
      "w0 =  0.30 , w1 = -0.10 , w2 =  0.35\n",
      "w0 =  0.20 , w1 = -0.00 , w2 =  0.45\n",
      "w0 =  0.30 , w1 =  0.10 , w2 =  0.35\n"
     ]
    }
   ],
   "source": [
    "# Perceptron training loop.\n",
    "all_correct = False\n",
    "while not all_correct:\n",
    "    all_correct = True\n",
    "    random.shuffle(index_list) # Randomize order\n",
    "    for i in index_list:\n",
    "        x = x_train_or[i]\n",
    "        y = y_train_or[i]\n",
    "        p_out = compute_output(w_or, x) # Perceptron function\n",
    "        if y != p_out: # Update weights when wrong\n",
    "            for j in range(0, len(w_or)):\n",
    "                w_or[j] += (y * LEARNING_RATE * x[j])\n",
    "            all_correct = False\n",
    "            show_learning(w_or) # Show updated weights\n"
   ]
  },
  {
   "cell_type": "code",
   "execution_count": null,
   "metadata": {},
   "outputs": [],
   "source": []
  },
  {
   "cell_type": "code",
   "execution_count": null,
   "metadata": {},
   "outputs": [],
   "source": []
  }
 ],
 "metadata": {
  "kernelspec": {
   "display_name": "Python 3 (ipykernel)",
   "language": "python",
   "name": "python3"
  },
  "language_info": {
   "codemirror_mode": {
    "name": "ipython",
    "version": 3
   },
   "file_extension": ".py",
   "mimetype": "text/x-python",
   "name": "python",
   "nbconvert_exporter": "python",
   "pygments_lexer": "ipython3",
   "version": "3.11.5"
  }
 },
 "nbformat": 4,
 "nbformat_minor": 4
}
