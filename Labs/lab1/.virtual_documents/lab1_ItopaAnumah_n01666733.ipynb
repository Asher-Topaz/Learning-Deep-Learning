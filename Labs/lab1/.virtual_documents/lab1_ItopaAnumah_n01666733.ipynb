import random


def show_learning(w): #define 
    print('w0 =', '%5.2f' % w[0], ', w1 =', '%5.2f' % w[1],
          ', w2 =', '%5.2f' % w[2])


random.seed(7) # To make repeatable
LEARNING_RATE = 0.1
index_list = [0, 1, 2, 3] # Used to randomize order


x_train_and = [(1.0, -1.0, -1.0), (1.0, -1.0, 1.0),
    (1.0, 1.0, -1.0), (1.0, 1.0, 1.0)] # Inputs
y_train_and = [-1.0, -1.0, -1.0, 1.0] # Output (ground truth)


x_train_or = [(1.0, -1.0, -1.0), (1.0, -1.0, 1.0),
    (1.0, 1.0, -1.0), (1.0, 1.0, 1.0)] # Inputs
y_train_or = [-1.0, 1.0, 1.0, 1.0] # Output (ground truth)


w_and = [0.2, -0.6, 0.25] # Initialize to some "random" numbers
w_or = [0.2, -0.6, 0.25] 

# Print initial weights.
show_learning(w_and)
show_learning(w_or)


# First element in vector x must be 1.
# Length of w and x must be n+1 for neuron with n inputs.
def compute_output(w, x):
    z = 0.0
    for i in range(len(w)):
        z += x[i] * w[i] # Compute sum of weighted inputs
    if z < 0: # Apply sign function
        return -1
    else:
        return 1




# Perceptron training loop.
all_correct = False
while not all_correct:
    all_correct = True
    random.shuffle(index_list) # Randomize order
    for i in index_list:
        x = x_train_and[i]
        y = y_train_and[i]
        p_out = compute_output(w_and, x) # Perceptron function
        if y != p_out: # Update weights when wrong
            for j in range(0, len(w_and)):
                w_and[j] += (y * LEARNING_RATE * x[j])
            all_correct = False
            show_learning(w_and) # Show updated weights



# Perceptron training loop.
all_correct = False
while not all_correct:
    all_correct = True
    random.shuffle(index_list) # Randomize order
    for i in index_list:
        x = x_train_or[i]
        y = y_train_or[i]
        p_out = compute_output(w_or, x) # Perceptron function
        if y != p_out: # Update weights when wrong
            for j in range(0, len(w_or)):
                w_or[j] += (y * LEARNING_RATE * x[j])
            all_correct = False
            show_learning(w_or) # Show updated weights







